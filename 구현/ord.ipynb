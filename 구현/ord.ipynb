{
 "cells": [
  {
   "cell_type": "code",
   "execution_count": 1,
   "id": "968fcd39",
   "metadata": {},
   "outputs": [
    {
     "data": {
      "text/plain": [
       "97"
      ]
     },
     "execution_count": 1,
     "metadata": {},
     "output_type": "execute_result"
    }
   ],
   "source": [
    "ord('a')"
   ]
  },
  {
   "cell_type": "code",
   "execution_count": 3,
   "id": "f1b23512",
   "metadata": {},
   "outputs": [
    {
     "data": {
      "text/plain": [
       "122"
      ]
     },
     "execution_count": 3,
     "metadata": {},
     "output_type": "execute_result"
    }
   ],
   "source": [
    "ord('z')"
   ]
  },
  {
   "cell_type": "code",
   "execution_count": 4,
   "id": "a8fd26f9",
   "metadata": {},
   "outputs": [
    {
     "name": "stdout",
     "output_type": "stream",
     "text": [
      "a ==> 97\n",
      "b ==> 98\n",
      "c ==> 99\n",
      "d ==> 100\n",
      "e ==> 101\n",
      "f ==> 102\n",
      "g ==> 103\n",
      "h ==> 104\n",
      "i ==> 105\n",
      "j ==> 106\n",
      "k ==> 107\n",
      "l ==> 108\n",
      "m ==> 109\n",
      "n ==> 110\n",
      "o ==> 111\n",
      "p ==> 112\n",
      "q ==> 113\n",
      "r ==> 114\n",
      "s ==> 115\n",
      "t ==> 116\n",
      "u ==> 117\n",
      "v ==> 118\n",
      "w ==> 119\n",
      "x ==> 120\n",
      "y ==> 121\n",
      "z ==> 122\n"
     ]
    }
   ],
   "source": [
    "alphabet=['a','b','c','d','e','f','g','h','i','j','k','l','m','n','o','p','q','r','s','t','u','v','w','x','y','z']\n",
    "\n",
    "for i in alphabet:\n",
    "    print(i,'==>', ord(i))"
   ]
  }
 ],
 "metadata": {
  "kernelspec": {
   "display_name": "Python 3 (ipykernel)",
   "language": "python",
   "name": "python3"
  },
  "language_info": {
   "codemirror_mode": {
    "name": "ipython",
    "version": 3
   },
   "file_extension": ".py",
   "mimetype": "text/x-python",
   "name": "python",
   "nbconvert_exporter": "python",
   "pygments_lexer": "ipython3",
   "version": "3.9.7"
  }
 },
 "nbformat": 4,
 "nbformat_minor": 5
}
