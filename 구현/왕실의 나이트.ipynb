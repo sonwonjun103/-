{
 "cells": [
  {
   "cell_type": "code",
   "execution_count": 3,
   "id": "1bdff339",
   "metadata": {},
   "outputs": [
    {
     "name": "stdout",
     "output_type": "stream",
     "text": [
      "c2\n",
      "6\n"
     ]
    }
   ],
   "source": [
    "original=input()\n",
    "row=int(original[1])\n",
    "column=int(ord(original[0])) - int(ord('a'))+1\n",
    "\n",
    "\n",
    "direction=[(2,1), (-2, 1),(2,-1),(-2,-1), (1,2),(-1,2),(1,-2),(-1,-2)]\n",
    "cnt=0\n",
    "for i in direction:\n",
    "    xrow=row+i[0]\n",
    "    xcolumn=column+i[1]\n",
    "    if xrow>=1 and xrow<=8 and xcolumn>=1 and xcolumn<=8:\n",
    "        cnt+=1\n",
    "        \n",
    "print(cnt)"
   ]
  }
 ],
 "metadata": {
  "kernelspec": {
   "display_name": "Python 3 (ipykernel)",
   "language": "python",
   "name": "python3"
  },
  "language_info": {
   "codemirror_mode": {
    "name": "ipython",
    "version": 3
   },
   "file_extension": ".py",
   "mimetype": "text/x-python",
   "name": "python",
   "nbconvert_exporter": "python",
   "pygments_lexer": "ipython3",
   "version": "3.9.7"
  }
 },
 "nbformat": 4,
 "nbformat_minor": 5
}
