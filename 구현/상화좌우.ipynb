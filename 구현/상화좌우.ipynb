{
 "cells": [
  {
   "cell_type": "code",
   "execution_count": 5,
   "id": "6a5c6733",
   "metadata": {},
   "outputs": [
    {
     "name": "stdout",
     "output_type": "stream",
     "text": [
      "5\n",
      "R R R U D D\n",
      "3 4\n"
     ]
    }
   ],
   "source": [
    "N=int(input())\n",
    "direction=list(map(str, input().split()))\n",
    "\n",
    "x=1\n",
    "y=1\n",
    "for i in range(len(direction)):\n",
    "    if direction[i]=='R':\n",
    "        if y>=N:\n",
    "            continue\n",
    "        else:\n",
    "            y+=1\n",
    "    elif direction[i]=='L':\n",
    "        if y<=1:\n",
    "            continue\n",
    "        else:\n",
    "            y-=1\n",
    "    elif direction[i]=='U':\n",
    "        if x<=1:\n",
    "            continue\n",
    "        else:\n",
    "            x-=1\n",
    "    else:\n",
    "        if x>=N:\n",
    "            continue\n",
    "        else:\n",
    "            x+=1\n",
    "            \n",
    "print(x, y)"
   ]
  },
  {
   "cell_type": "code",
   "execution_count": 8,
   "id": "6619eb4f",
   "metadata": {},
   "outputs": [
    {
     "name": "stdout",
     "output_type": "stream",
     "text": [
      "5\n",
      "R R R U D D\n",
      "3 4\n"
     ]
    }
   ],
   "source": [
    "n=int(input())\n",
    "x,y=1,1\n",
    "\n",
    "plans=input().split()\n",
    "\n",
    "dx=[0,0,-1,1]\n",
    "dy=[-1,1,0,0]\n",
    "\n",
    "move_types=['L','R','U','D']\n",
    "\n",
    "for plan in plans:\n",
    "    for i in range(len(move_types)):\n",
    "        if plan==move_types[i]:\n",
    "            nx=x+dx[i]\n",
    "            ny=y+dy[i]\n",
    "            \n",
    "    if nx<1 or ny<1 or nx>n or ny>n:\n",
    "        continue\n",
    "        \n",
    "    x,y=nx,ny\n",
    "    \n",
    "print(x,y)"
   ]
  }
 ],
 "metadata": {
  "kernelspec": {
   "display_name": "Python 3 (ipykernel)",
   "language": "python",
   "name": "python3"
  },
  "language_info": {
   "codemirror_mode": {
    "name": "ipython",
    "version": 3
   },
   "file_extension": ".py",
   "mimetype": "text/x-python",
   "name": "python",
   "nbconvert_exporter": "python",
   "pygments_lexer": "ipython3",
   "version": "3.9.7"
  }
 },
 "nbformat": 4,
 "nbformat_minor": 5
}
