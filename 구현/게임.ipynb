{
 "cells": [
  {
   "cell_type": "code",
   "execution_count": 2,
   "id": "97a3c79c",
   "metadata": {},
   "outputs": [
    {
     "name": "stdout",
     "output_type": "stream",
     "text": [
      "4 4\n",
      "1 1 0\n",
      "1 1 1 1\n",
      "1 0 0 1\n",
      "1 1 0 1\n",
      "1 1 1 1\n",
      "3\n"
     ]
    }
   ],
   "source": [
    "n,m=map(int, input().split())\n",
    "\n",
    "d=[[0]*m for i_ in range(n)]\n",
    "x,y,direction=map(int, input().split())\n",
    "d[x][y]=1\n",
    "\n",
    "array=[]\n",
    "for i in range(n):\n",
    "    array.append(list(map(int, input().split())))\n",
    "    \n",
    "dx=[-1,0,1,0]\n",
    "dy=[0,1,0,-1]\n",
    "\n",
    "def turn_left():\n",
    "    global direction\n",
    "    direction-=1\n",
    "    if direction==-1:\n",
    "        direction=3\n",
    "        \n",
    "count=1\n",
    "turn_time=0\n",
    "while 1:\n",
    "    turn_left()\n",
    "    nx=x+dx[direction]\n",
    "    ny=y+dy[direction]\n",
    "    \n",
    "    if d[nx][ny]==0 and array[nx][ny]==0:\n",
    "        d[nx][ny]=1\n",
    "        x=nx\n",
    "        y=ny\n",
    "        count+=1\n",
    "        turn_time=0\n",
    "        continue\n",
    "    else:\n",
    "        turn_time+=1\n",
    "        \n",
    "    if turn_time==4:\n",
    "        nx=x-dx[direction]\n",
    "        ny=y-dy[direction]\n",
    "        \n",
    "        if array[nx][ny]==0:\n",
    "            x=nx\n",
    "            y=ny\n",
    "        else:\n",
    "            break\n",
    "        turn_time=0\n",
    "        \n",
    "print(count)"
   ]
  }
 ],
 "metadata": {
  "kernelspec": {
   "display_name": "Python 3 (ipykernel)",
   "language": "python",
   "name": "python3"
  },
  "language_info": {
   "codemirror_mode": {
    "name": "ipython",
    "version": 3
   },
   "file_extension": ".py",
   "mimetype": "text/x-python",
   "name": "python",
   "nbconvert_exporter": "python",
   "pygments_lexer": "ipython3",
   "version": "3.9.7"
  }
 },
 "nbformat": 4,
 "nbformat_minor": 5
}
