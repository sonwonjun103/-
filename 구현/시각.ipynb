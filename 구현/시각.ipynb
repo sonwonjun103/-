{
 "cells": [
  {
   "cell_type": "markdown",
   "id": "beb36578",
   "metadata": {},
   "source": [
    "# 시각"
   ]
  },
  {
   "cell_type": "markdown",
   "id": "c24200a8",
   "metadata": {},
   "source": [
    "정수 N이 입력되면 00시 00분 00초부터 N시 59분 59초까지의 모든 시각 중에서 3이 하나라도 포함되는 모든 경우의 수를 구하라."
   ]
  },
  {
   "cell_type": "code",
   "execution_count": 5,
   "id": "4334bbf8",
   "metadata": {},
   "outputs": [
    {
     "name": "stdout",
     "output_type": "stream",
     "text": [
      "5\n",
      "11475\n"
     ]
    }
   ],
   "source": [
    "N=int(input())\n",
    "\n",
    "cnt=0\n",
    "for i in range(N+1):\n",
    "    i=str(i)\n",
    "    for j in range(60):\n",
    "        j=str(j)\n",
    "        for z in range(60):\n",
    "            z=str(z)\n",
    "            if '3' in i or '3' in j or '3' in z:\n",
    "                cnt+=1\n",
    "                \n",
    "print(cnt)"
   ]
  },
  {
   "cell_type": "code",
   "execution_count": 6,
   "id": "be327d45",
   "metadata": {},
   "outputs": [
    {
     "name": "stdout",
     "output_type": "stream",
     "text": [
      "5\n",
      "11475\n"
     ]
    }
   ],
   "source": [
    "N=int(input())\n",
    "\n",
    "cnt=0\n",
    "for i in range(N+1):\n",
    "    for j in range(60):\n",
    "        for z in range(60):\n",
    "            if '3' in str(i)+str(j)+str(z):\n",
    "                cnt+=1\n",
    "                \n",
    "print(cnt)"
   ]
  }
 ],
 "metadata": {
  "kernelspec": {
   "display_name": "Python 3 (ipykernel)",
   "language": "python",
   "name": "python3"
  },
  "language_info": {
   "codemirror_mode": {
    "name": "ipython",
    "version": 3
   },
   "file_extension": ".py",
   "mimetype": "text/x-python",
   "name": "python",
   "nbconvert_exporter": "python",
   "pygments_lexer": "ipython3",
   "version": "3.9.7"
  }
 },
 "nbformat": 4,
 "nbformat_minor": 5
}
