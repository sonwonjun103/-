{
 "cells": [
  {
   "cell_type": "code",
   "execution_count": 7,
   "id": "478b2dc7",
   "metadata": {},
   "outputs": [
    {
     "name": "stdout",
     "output_type": "stream",
     "text": [
      "5 8 3\n",
      "2 4 5 4 6\n",
      "46\n"
     ]
    }
   ],
   "source": [
    "N,M,K=map(int, input().split()) #M이 최대 개수, K는 숫자 개수\n",
    "num=list(map(int, input().split()))\n",
    "\n",
    "num.sort(reverse=True)    \n",
    "\n",
    "result=0\n",
    "first=num[0]\n",
    "second=num[1]\n",
    "\n",
    "while 1:\n",
    "    for i in range(K):\n",
    "        if M==0:\n",
    "            break\n",
    "        result+=first\n",
    "        M-=1\n",
    "    if M==0:\n",
    "        break\n",
    "    result+=second\n",
    "    M-=1\n",
    "    \n",
    "print(result)"
   ]
  },
  {
   "cell_type": "code",
   "execution_count": 9,
   "id": "76dcc2ac",
   "metadata": {},
   "outputs": [
    {
     "name": "stdout",
     "output_type": "stream",
     "text": [
      "5 8 3\n",
      "2 4 5 4 6\n",
      "46\n"
     ]
    }
   ],
   "source": [
    "n,m,k=map(int, input().split()) #M이 최대 개수, K는 숫자 개수\n",
    "num=list(map(int, input().split()))\n",
    "\n",
    "num.sort(reverse=True)    \n",
    "\n",
    "result=0\n",
    "first=num[0]\n",
    "second=num[1]\n",
    "\n",
    "count=int(m/(k+1))*k\n",
    "count+=m%(k+1)\n",
    "\n",
    "result+=(count)*first\n",
    "result+=(m-count)*second\n",
    "\n",
    "print(result)"
   ]
  }
 ],
 "metadata": {
  "kernelspec": {
   "display_name": "Python 3 (ipykernel)",
   "language": "python",
   "name": "python3"
  },
  "language_info": {
   "codemirror_mode": {
    "name": "ipython",
    "version": 3
   },
   "file_extension": ".py",
   "mimetype": "text/x-python",
   "name": "python",
   "nbconvert_exporter": "python",
   "pygments_lexer": "ipython3",
   "version": "3.9.7"
  }
 },
 "nbformat": 4,
 "nbformat_minor": 5
}
