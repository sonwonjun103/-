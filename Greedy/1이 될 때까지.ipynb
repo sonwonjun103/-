{
 "cells": [
  {
   "cell_type": "code",
   "execution_count": 5,
   "id": "c4552110",
   "metadata": {},
   "outputs": [
    {
     "name": "stdout",
     "output_type": "stream",
     "text": [
      "27 3\n",
      "3\n"
     ]
    }
   ],
   "source": [
    "#내가 생각해본 코드 ==> 맞는지 모르겟음\n",
    "#책에 있는 예시는 다 맞음\n",
    "\n",
    "N,K=map(int, input().split())\n",
    "cnt=0\n",
    "\n",
    "while 1:\n",
    "    if N==1:\n",
    "        break\n",
    "    if N%K!=0:\n",
    "        N-=1\n",
    "    else:    \n",
    "        N=N//K\n",
    "    cnt+=1\n",
    "    \n",
    "print(cnt)"
   ]
  },
  {
   "cell_type": "code",
   "execution_count": 7,
   "id": "b70673d5",
   "metadata": {},
   "outputs": [
    {
     "name": "stdout",
     "output_type": "stream",
     "text": [
      "25 5\n",
      "2\n"
     ]
    }
   ],
   "source": [
    "n,k=map(int, input().split())\n",
    "result=0\n",
    "\n",
    "while n>=k:\n",
    "    while n%k!=0:\n",
    "        n-=1\n",
    "        result+=1\n",
    "    n//=k\n",
    "    result+=1\n",
    "    \n",
    "while n>1:\n",
    "    n-=1\n",
    "    result+=1\n",
    "    \n",
    "print(result)"
   ]
  },
  {
   "cell_type": "code",
   "execution_count": 8,
   "id": "97d8284a",
   "metadata": {},
   "outputs": [
    {
     "name": "stdout",
     "output_type": "stream",
     "text": [
      "1000 4\n",
      "13\n"
     ]
    }
   ],
   "source": [
    "n,k=map(int, input().split())\n",
    "result=0\n",
    "\n",
    "while 1:\n",
    "    target=(n//k)*k\n",
    "    result+=(n-target)\n",
    "    n=target\n",
    "    \n",
    "    if n<k:\n",
    "        break\n",
    "        \n",
    "    result+=1\n",
    "    n//=k\n",
    "    \n",
    "result+=(n-1)\n",
    "print(result)"
   ]
  }
 ],
 "metadata": {
  "kernelspec": {
   "display_name": "Python 3 (ipykernel)",
   "language": "python",
   "name": "python3"
  },
  "language_info": {
   "codemirror_mode": {
    "name": "ipython",
    "version": 3
   },
   "file_extension": ".py",
   "mimetype": "text/x-python",
   "name": "python",
   "nbconvert_exporter": "python",
   "pygments_lexer": "ipython3",
   "version": "3.9.7"
  }
 },
 "nbformat": 4,
 "nbformat_minor": 5
}
